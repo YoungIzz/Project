{
 "cells": [
  {
   "cell_type": "markdown",
   "metadata": {},
   "source": [
    "<center>\n",
    "    <img src=\"https://s3-api.us-geo.objectstorage.softlayer.net/cf-courses-data/CognitiveClass/Logos/organization_logo/organization_logo.png\" width=\"300\" alt=\"cognitiveclass.ai logo\"  />\n",
    "</center>\n"
   ]
  },
  {
   "cell_type": "markdown",
   "metadata": {
    "tags": []
   },
   "source": [
    "#### Add your code below following the instructions given in the course\n"
   ]
  },
  {
   "cell_type": "markdown",
   "metadata": {
    "tags": []
   },
   "source": [
    "# My Jupyter Notebook on IBM Watson Studio"
   ]
  },
  {
   "cell_type": "markdown",
   "metadata": {},
   "source": [
    "**Israel Eyu Udeh**\n",
    "\n",
    "Am currently a student of Civil Engineering. But i am interesting in going into Data Science. "
   ]
  },
  {
   "cell_type": "markdown",
   "metadata": {},
   "source": [
    "* *I developed interest in Data Science as an added skill cert related to civil Engeering.*\n",
    "* *With a broad knowledge gotten from the course i intend to apply it in solving Civil Engineering problems mostly concerned with Traffic congestion and housing problems in my country.*"
   ]
  },
  {
   "cell_type": "markdown",
   "metadata": {},
   "source": [
    "### The code below simple takes a string and converts it to a list using a for loop and then prints it out as a string"
   ]
  },
  {
   "cell_type": "code",
   "execution_count": 20,
   "metadata": {},
   "outputs": [
    {
     "name": "stdout",
     "output_type": "stream",
     "text": [
      "My so i a to as my of is on So i to to if i I I i a as as a to it i am is me\n"
     ]
    }
   ],
   "source": [
    "sentence =  \"\"\" My Data Science journey so far: Few months back i was very uncertain about a part to choose as my current place of study is still on strike.\n",
    "                So i decided to surf the net to see if i can find closure. And Yeah! I did find. I read about Data science, though the reviews i got where a bit discouraging\n",
    "                as Data Science was potrayed as a difficult course to take on. And 'yeah, it sure is'. But i am glad is took the challenge. Okay let me stop here1.\"\"\"\n",
    "New_sent = sentence.split()\n",
    "lst_word = []\n",
    "for wrd in New_sent:\n",
    "       if len(wrd)<3:\n",
    "            lst_word.append(wrd)\n",
    "print(' '.join(lst_word))"
   ]
  },
  {
   "cell_type": "markdown",
   "metadata": {},
   "source": [
    "***\n",
    "Horizontal rule\n",
    "***\n",
    "\n",
    "* Python\n",
    "* SQL\n",
    "* R\n",
    "\n",
    "1.\n",
    "2.\n",
    "3.\n"
   ]
  }
 ],
 "metadata": {
  "kernelspec": {
   "display_name": "Python",
   "language": "python",
   "name": "conda-env-python-py"
  },
  "language_info": {
   "codemirror_mode": {
    "name": "ipython",
    "version": 3
   },
   "file_extension": ".py",
   "mimetype": "text/x-python",
   "name": "python",
   "nbconvert_exporter": "python",
   "pygments_lexer": "ipython3",
   "version": "3.7.12"
  }
 },
 "nbformat": 4,
 "nbformat_minor": 4
}
